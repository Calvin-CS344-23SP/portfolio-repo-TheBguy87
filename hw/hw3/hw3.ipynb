{
 "cells": [
  {
   "cell_type": "markdown",
   "id": "6328cee2",
   "metadata": {},
   "source": [
    "# Homework 3: MNIST Image Classifer"
   ]
  },
  {
   "cell_type": "markdown",
   "id": "36cd53b2",
   "metadata": {},
   "source": [
    "## Setup"
   ]
  },
  {
   "cell_type": "code",
   "execution_count": 1,
   "id": "4678af28",
   "metadata": {},
   "outputs": [
    {
     "name": "stdout",
     "output_type": "stream",
     "text": [
      "5000 training images, 5000 validation images\n"
     ]
    }
   ],
   "source": [
    "# Import fastai, but only for the DataBlock part.\n",
    "from fastai.vision.all import *\n",
    "\n",
    "path = untar_data(URLs.MNIST)\n",
    "\n",
    "# Create a subset of the images, so we train faster. We do this by taking 500 random images of each digit.\n",
    "set_seed(0)\n",
    "num_imgs_per_digit = 500\n",
    "items = [\n",
    "    p\n",
    "    for split in ['training', 'testing']\n",
    "    for digit in range(10)\n",
    "    for p in (path/split/str(digit)).ls().shuffle()[:num_imgs_per_digit]\n",
    "]\n",
    "\n",
    "# Create the `dataloaders`. We need a slightly special `ImageBlock` because we want grayscale images.\n",
    "\n",
    "block = DataBlock(\n",
    "    blocks=(ImageBlock(PILImageBW), CategoryBlock),\n",
    "    get_y = parent_label,\n",
    "    splitter=GrandparentSplitter(train_name='training', valid_name=\"testing\"),\n",
    ")\n",
    "dataloaders = block.dataloaders(items, bs=16)\n",
    "print(f\"{dataloaders.train.n} training images, {dataloaders.valid.n} validation images\")"
   ]
  },
  {
   "cell_type": "markdown",
   "id": "c783fb36",
   "metadata": {},
   "source": [
    "## Single Layer Model"
   ]
  },
  {
   "cell_type": "code",
   "execution_count": 2,
   "id": "8770d2bb",
   "metadata": {},
   "outputs": [],
   "source": [
    "# Flatten each image, removing the spacial structure\n",
    "flattener = nn.Flatten()\n",
    "\n",
    "# Create the linear layer\n",
    "linear_1 = nn.Linear(in_features=784, out_features=10, bias=False)"
   ]
  },
  {
   "cell_type": "code",
   "execution_count": 3,
   "id": "e6f7252d",
   "metadata": {},
   "outputs": [
    {
     "data": {
      "text/plain": [
       "Sequential(\n",
       "  (0): Flatten(start_dim=1, end_dim=-1)\n",
       "  (1): Linear(in_features=784, out_features=10, bias=False)\n",
       ")"
      ]
     },
     "execution_count": 3,
     "metadata": {},
     "output_type": "execute_result"
    }
   ],
   "source": [
    "# Create model for single linear layer\n",
    "model_1 = nn.Sequential(\n",
    "    flattener,\n",
    "    linear_1,\n",
    ")\n",
    "model_1.to(dataloaders.device)"
   ]
  },
  {
   "cell_type": "code",
   "execution_count": 4,
   "id": "cf0d2b45",
   "metadata": {},
   "outputs": [
    {
     "name": "stdout",
     "output_type": "stream",
     "text": [
      "Epoch  0: loss=0.59, train accuracy 4092/4992\n",
      "Epoch  1: loss=0.48, train accuracy 4429/4992\n",
      "Epoch  2: loss=0.43, train accuracy 4493/4992\n",
      "Epoch  3: loss=0.40, train accuracy 4541/4992\n",
      "Epoch  4: loss=0.37, train accuracy 4596/4992\n",
      "Epoch  5: loss=0.36, train accuracy 4590/4992\n",
      "Epoch  6: loss=0.34, train accuracy 4615/4992\n",
      "Epoch  7: loss=0.33, train accuracy 4644/4992\n",
      "Epoch  8: loss=0.32, train accuracy 4663/4992\n",
      "Epoch  9: loss=0.31, train accuracy 4686/4992\n",
      "Epoch 10: loss=0.30, train accuracy 4697/4992\n",
      "Epoch 11: loss=0.29, train accuracy 4704/4992\n",
      "Epoch 12: loss=0.28, train accuracy 4721/4992\n",
      "Epoch 13: loss=0.28, train accuracy 4716/4992\n",
      "Epoch 14: loss=0.27, train accuracy 4724/4992\n",
      "Epoch 15: loss=0.27, train accuracy 4748/4992\n",
      "Epoch 16: loss=0.24, train accuracy 4755/4992\n",
      "Epoch 17: loss=0.23, train accuracy 4753/4992\n",
      "Epoch 18: loss=0.22, train accuracy 4770/4992\n",
      "Epoch 19: loss=0.21, train accuracy 4753/4992\n"
     ]
    },
    {
     "data": {
      "image/png": "[encoded data removed]",
      "text/plain": [
       "<Figure size 432x288 with 1 Axes>"
      ]
     },
     "metadata": {
      "needs_background": "light"
     },
     "output_type": "display_data"
    }
   ],
   "source": [
    "num_epochs=20\n",
    "learning_rate=0.3\n",
    "losses=[]\n",
    "\n",
    "linear_1.reset_parameters()\n",
    "\n",
    "for epoch in range(num_epochs):\n",
    "    total_images = 0\n",
    "    total_correct = 0\n",
    "    \n",
    "    for images, labels in dataloaders.train:\n",
    "        images = cast(images, Tensor)\n",
    "        labels = cast(labels, Tensor)\n",
    "        \n",
    "        logits = model_1(images)\n",
    "        loss = F.cross_entropy(logits, labels, reduction='none').mean()\n",
    "        \n",
    "        loss.backward()\n",
    "        for parameter in model_1.parameters():\n",
    "            parameter.data -= learning_rate * parameter.grad\n",
    "        model_1.zero_grad()\n",
    "        \n",
    "        # Track the metrics of the model\n",
    "        predictions = logits.argmax(axis=1)\n",
    "        num_accurate = (predictions == labels).sum()\n",
    "        total_images += len(labels)\n",
    "        total_correct += num_accurate\n",
    "        \n",
    "        losses.append(loss.item())\n",
    "        \n",
    "    avg_loss_this_epoch = np.mean(losses[-total_images:])\n",
    "    print(f\"Epoch {epoch:2d}: loss={avg_loss_this_epoch:.2f}, train accuracy {total_correct:3d}/{total_images}\")\n",
    "\n",
    "# Plot the smoothed loss\n",
    "pd.Series(losses).ewm(alpha = .1).mean().plot()\n",
    "plt.xlabel(\"Iteration\")\n",
    "plt.ylabel(\"Cross-Entropy Loss\");"
   ]
  },
  {
   "cell_type": "markdown",
   "id": "a524cce3",
   "metadata": {},
   "source": [
    "## Two-Layer Model"
   ]
  },
  {
   "cell_type": "code",
   "execution_count": 5,
   "id": "fdcf3ef0",
   "metadata": {},
   "outputs": [],
   "source": [
    "# Defining the layers\n",
    "linear_1 = nn.Linear(in_features=784, out_features=30)\n",
    "relu_layer = nn.ReLU()\n",
    "linear_2 = nn.Linear(in_features=30, out_features=10)"
   ]
  },
  {
   "cell_type": "code",
   "execution_count": 6,
   "id": "7af054f0",
   "metadata": {},
   "outputs": [
    {
     "data": {
      "text/plain": [
       "Sequential(\n",
       "  (0): Flatten(start_dim=1, end_dim=-1)\n",
       "  (1): Linear(in_features=784, out_features=30, bias=True)\n",
       "  (2): ReLU()\n",
       "  (3): Linear(in_features=30, out_features=10, bias=True)\n",
       ")"
      ]
     },
     "execution_count": 6,
     "metadata": {},
     "output_type": "execute_result"
    }
   ],
   "source": [
    "# Create two-layer model\n",
    "model_2 = nn.Sequential(\n",
    "    flattener,\n",
    "    linear_1,\n",
    "    relu_layer,\n",
    "    linear_2\n",
    ")\n",
    "model_2.to(dataloaders.device)"
   ]
  },
  {
   "cell_type": "code",
   "execution_count": 10,
   "id": "18f6318a",
   "metadata": {},
   "outputs": [
    {
     "name": "stdout",
     "output_type": "stream",
     "text": [
      "Epoch  0: loss=0.70, training accuracy: 3840/4992\n",
      "Epoch  1: loss=0.52, training accuracy: 4483/4992\n",
      "Epoch  2: loss=0.42, training accuracy: 4607/4992\n",
      "Epoch  3: loss=0.36, training accuracy: 4726/4992\n",
      "Epoch  4: loss=0.32, training accuracy: 4755/4992\n",
      "Epoch  5: loss=0.29, training accuracy: 4798/4992\n",
      "Epoch  6: loss=0.26, training accuracy: 4839/4992\n",
      "Epoch  7: loss=0.23, training accuracy: 4882/4992\n",
      "Epoch  8: loss=0.21, training accuracy: 4919/4992\n",
      "Epoch  9: loss=0.20, training accuracy: 4925/4992\n",
      "Epoch 10: loss=0.18, training accuracy: 4940/4992\n",
      "Epoch 11: loss=0.17, training accuracy: 4970/4992\n",
      "Epoch 12: loss=0.16, training accuracy: 4986/4992\n",
      "Epoch 13: loss=0.15, training accuracy: 4988/4992\n",
      "Epoch 14: loss=0.14, training accuracy: 4991/4992\n",
      "Epoch 15: loss=0.13, training accuracy: 4991/4992\n",
      "Epoch 16: loss=0.08, training accuracy: 4992/4992\n",
      "Epoch 17: loss=0.06, training accuracy: 4992/4992\n",
      "Epoch 18: loss=0.05, training accuracy: 4992/4992\n",
      "Epoch 19: loss=0.04, training accuracy: 4992/4992\n"
     ]
    },
    {
     "data": {
      "image/png": "[encoded data removed]",
      "text/plain": [
       "<Figure size 432x288 with 1 Axes>"
      ]
     },
     "metadata": {
      "needs_background": "light"
     },
     "output_type": "display_data"
    }
   ],
   "source": [
    "num_epochs=20\n",
    "learning_rate=0.3\n",
    "losses=[]\n",
    "\n",
    "linear_1.reset_parameters()\n",
    "linear_2.reset_parameters()\n",
    "\n",
    "for epoch in range(num_epochs):\n",
    "    total_images = 0\n",
    "    total_correct = 0\n",
    "    \n",
    "    for images, labels in dataloaders.train:\n",
    "        images = cast(images, Tensor)\n",
    "        labels = cast(labels, Tensor)\n",
    "        \n",
    "        logits = model_2(images)\n",
    "        loss = F.cross_entropy(logits, labels, reduction='none').mean()\n",
    "        \n",
    "        loss.backward()\n",
    "        for parameter in model_2.parameters():\n",
    "            parameter.data -= learning_rate * parameter.grad\n",
    "        model_2.zero_grad()\n",
    "        \n",
    "        # Track the metrics of the model\n",
    "        predictions = logits.argmax(axis=1)\n",
    "        num_accurate = (predictions == labels).sum()\n",
    "        total_images += len(labels)\n",
    "        total_correct += num_accurate\n",
    "        \n",
    "        losses.append(loss.item())\n",
    "        \n",
    "    avg_loss_this_epoch = np.mean(losses[-total_images:])\n",
    "    print(f\"Epoch {epoch:2d}: loss={avg_loss_this_epoch:.2f}, training accuracy: {total_correct:3d}/{total_images}\")\n",
    "\n",
    "# Plot the smoothed loss\n",
    "pd.Series(losses).ewm(alpha = .1).mean().plot()\n",
    "plt.xlabel(\"Iteration\")\n",
    "plt.ylabel(\"Cross-Entropy Loss\");"
   ]
  },
  {
   "cell_type": "markdown",
   "id": "5eb2fb43",
   "metadata": {},
   "source": [
    "## Analysis/Reflection"
   ]
  },
  {
   "cell_type": "markdown",
   "id": "faac6fd6",
   "metadata": {},
   "source": [
    "With around 0.04 as the loss for the two-layer model, and around 0.21 for the logistic regression model, the two layer model did significantly better than the single layer model. I found that for both models, a learning rate of 0.3 was appropriate, and also used 20 epochs for each. \n",
    "\n",
    "**- What did you learn about neural networks from this exercise?**\n",
    "\n",
    "I mostly learned about the impressive capabilities of a neural network compared to linear regression. I also learned some about picking learning rates/epochs, as I had to decide which rates worked best.\n",
    "\n",
    "**- What did you learn about your own problem-solving process?**\n",
    "\n",
    "I learned that I rely a lot on the notebooks from class rather than materials online. I found the lab 5 mnist classifier to be helpful. This also made me less likely to look up specific functions of PyTorch and understand them on a deeper level, so on my own time I might want to try some of the optional extensions to this homework.\n",
    "\n",
    "**- How would you describe this experience in a job interview?**\n",
    "\n",
    "In a job interview, I would probably talk about the differences between creating a linear model and a two-layer model, and how the results ended up as they did, and then what I learned from those results."
   ]
  },
  {
   "cell_type": "code",
   "execution_count": null,
   "id": "99b64cfc",
   "metadata": {},
   "outputs": [],
   "source": []
  }
 ],
 "metadata": {
  "kernelspec": {
   "display_name": "Python 3 (ipykernel)",
   "language": "python",
   "name": "python3"
  },
  "language_info": {
   "codemirror_mode": {
    "name": "ipython",
    "version": 3
   },
   "file_extension": ".py",
   "mimetype": "text/x-python",
   "name": "python",
   "nbconvert_exporter": "python",
   "pygments_lexer": "ipython3",
   "version": "3.9.12"
  }
 },
 "nbformat": 4,
 "nbformat_minor": 5
}
