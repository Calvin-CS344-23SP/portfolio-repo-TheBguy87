{
 "cells": [
  {
   "cell_type": "markdown",
   "id": "6f69e5a3",
   "metadata": {},
   "source": [
    "## Homework 1: Letter Classifier\n",
    "**Brian Langejans, January 24, 2023**"
   ]
  },
  {
   "cell_type": "markdown",
   "id": "34fc8316",
   "metadata": {},
   "source": [
    "### Setup"
   ]
  },
  {
   "cell_type": "code",
   "execution_count": 1,
   "id": "24a859f5",
   "metadata": {},
   "outputs": [],
   "source": [
    "# Import fastai code.\n",
    "from fastai.vision.all import *\n",
    "\n",
    "# Set a seed so that the results are the same every time this is run.\n",
    "set_seed(0, reproducible=True)"
   ]
  },
  {
   "cell_type": "code",
   "execution_count": 2,
   "id": "c9b5ea5b",
   "metadata": {},
   "outputs": [
    {
     "name": "stdout",
     "output_type": "stream",
     "text": [
      "_CudaDeviceProperties(name='NVIDIA GeForce RTX 3060', major=8, minor=6, total_memory=12050MB, multi_processor_count=28)\n"
     ]
    }
   ],
   "source": [
    "# Show what GPU we have.\n",
    "if torch.cuda.is_available():\n",
    "    print(torch.cuda.get_device_properties(0))\n",
    "else:\n",
    "    print(\"No CUDA.\")"
   ]
  },
  {
   "cell_type": "markdown",
   "id": "7f15d056",
   "metadata": {},
   "source": [
    "### Load the data"
   ]
  },
  {
   "cell_type": "markdown",
   "id": "b036fa94",
   "metadata": {},
   "source": [
    "**Load in the images**"
   ]
  },
  {
   "cell_type": "code",
   "execution_count": 3,
   "id": "39a8e521",
   "metadata": {},
   "outputs": [],
   "source": [
    "path = untar_data(\"https://students.cs.calvin.edu/~bel3/344/hw1/images.zip\")"
   ]
  },
  {
   "cell_type": "markdown",
   "id": "83c765f6",
   "metadata": {},
   "source": [
    "**Get image paths**"
   ]
  },
  {
   "cell_type": "code",
   "execution_count": 4,
   "id": "5f6f9e74",
   "metadata": {},
   "outputs": [],
   "source": [
    "image_files = get_image_files(path).sorted()"
   ]
  },
  {
   "cell_type": "markdown",
   "id": "be90e593",
   "metadata": {},
   "source": [
    "**Get ground-truth labels**"
   ]
  },
  {
   "cell_type": "code",
   "execution_count": 5,
   "id": "7ab48663",
   "metadata": {},
   "outputs": [],
   "source": [
    "def a_b_or_c(filename):\n",
    "    if filename[0]=='A':\n",
    "        return 'A'\n",
    "    elif filename[0]=='B':\n",
    "        return 'B'\n",
    "    else:\n",
    "        return 'C'"
   ]
  },
  {
   "cell_type": "code",
   "execution_count": 6,
   "id": "32901d67",
   "metadata": {},
   "outputs": [],
   "source": [
    "labels = []\n",
    "for image in image_files:\n",
    "    labels.append(a_b_or_c(image.name))"
   ]
  },
  {
   "cell_type": "markdown",
   "id": "48efa01d",
   "metadata": {},
   "source": [
    "**Set up dataloaders**"
   ]
  },
  {
   "cell_type": "code",
   "execution_count": 7,
   "id": "af3111bc",
   "metadata": {},
   "outputs": [
    {
     "data": {
      "image/png": "[encoded data removed]",
      "text/plain": [
       "<Figure size 432x216 with 2 Axes>"
      ]
     },
     "metadata": {
      "needs_background": "light"
     },
     "output_type": "display_data"
    }
   ],
   "source": [
    "dataloaders = ImageDataLoaders.from_lists(\n",
    "    path=path, fnames=image_files, labels=labels,\n",
    "    valid_pct=0.2,\n",
    "    seed=42,\n",
    "    bs=2,\n",
    "    item_tfms=Resize(224)\n",
    ")\n",
    "\n",
    "dataloaders.train.show_batch()"
   ]
  },
  {
   "cell_type": "code",
   "execution_count": 8,
   "id": "8303ad76",
   "metadata": {},
   "outputs": [
    {
     "name": "stdout",
     "output_type": "stream",
     "text": [
      "80 training images\n",
      "20 validation images\n"
     ]
    }
   ],
   "source": [
    "print(dataloaders.train.n, \"training images\")\n",
    "print(dataloaders.valid.n, \"validation images\")"
   ]
  },
  {
   "cell_type": "markdown",
   "id": "4f6e9d98",
   "metadata": {},
   "source": [
    "### Training the Model"
   ]
  },
  {
   "cell_type": "code",
   "execution_count": 9,
   "id": "3f9e2689",
   "metadata": {},
   "outputs": [
    {
     "data": {
      "text/html": [
       "\n",
       "<style>\n",
       "    /* Turns off some styling */\n",
       "    progress {\n",
       "        /* gets rid of default border in Firefox and Opera. */\n",
       "        border: none;\n",
       "        /* Needs to be in here for Safari polyfill so background images work as expected. */\n",
       "        background-size: auto;\n",
       "    }\n",
       "    .progress-bar-interrupted, .progress-bar-interrupted::-webkit-progress-bar {\n",
       "        background: #F44336;\n",
       "    }\n",
       "</style>\n"
      ],
      "text/plain": [
       "<IPython.core.display.HTML object>"
      ]
     },
     "metadata": {},
     "output_type": "display_data"
    },
    {
     "data": {
      "text/html": [
       "<table border=\"1\" class=\"dataframe\">\n",
       "  <thead>\n",
       "    <tr style=\"text-align: left;\">\n",
       "      <th>epoch</th>\n",
       "      <th>train_loss</th>\n",
       "      <th>valid_loss</th>\n",
       "      <th>accuracy</th>\n",
       "      <th>error_rate</th>\n",
       "      <th>time</th>\n",
       "    </tr>\n",
       "  </thead>\n",
       "  <tbody>\n",
       "    <tr>\n",
       "      <td>0</td>\n",
       "      <td>1.644963</td>\n",
       "      <td>1.312621</td>\n",
       "      <td>0.500000</td>\n",
       "      <td>0.500000</td>\n",
       "      <td>00:02</td>\n",
       "    </tr>\n",
       "  </tbody>\n",
       "</table>"
      ],
      "text/plain": [
       "<IPython.core.display.HTML object>"
      ]
     },
     "metadata": {},
     "output_type": "display_data"
    },
    {
     "data": {
      "text/html": [
       "\n",
       "<style>\n",
       "    /* Turns off some styling */\n",
       "    progress {\n",
       "        /* gets rid of default border in Firefox and Opera. */\n",
       "        border: none;\n",
       "        /* Needs to be in here for Safari polyfill so background images work as expected. */\n",
       "        background-size: auto;\n",
       "    }\n",
       "    .progress-bar-interrupted, .progress-bar-interrupted::-webkit-progress-bar {\n",
       "        background: #F44336;\n",
       "    }\n",
       "</style>\n"
      ],
      "text/plain": [
       "<IPython.core.display.HTML object>"
      ]
     },
     "metadata": {},
     "output_type": "display_data"
    },
    {
     "data": {
      "text/html": [
       "<table border=\"1\" class=\"dataframe\">\n",
       "  <thead>\n",
       "    <tr style=\"text-align: left;\">\n",
       "      <th>epoch</th>\n",
       "      <th>train_loss</th>\n",
       "      <th>valid_loss</th>\n",
       "      <th>accuracy</th>\n",
       "      <th>error_rate</th>\n",
       "      <th>time</th>\n",
       "    </tr>\n",
       "  </thead>\n",
       "  <tbody>\n",
       "    <tr>\n",
       "      <td>0</td>\n",
       "      <td>1.483117</td>\n",
       "      <td>0.676277</td>\n",
       "      <td>0.850000</td>\n",
       "      <td>0.150000</td>\n",
       "      <td>00:01</td>\n",
       "    </tr>\n",
       "  </tbody>\n",
       "</table>"
      ],
      "text/plain": [
       "<IPython.core.display.HTML object>"
      ]
     },
     "metadata": {},
     "output_type": "display_data"
    },
    {
     "data": {
      "image/png": "[encoded data removed]",
      "text/plain": [
       "<Figure size 432x288 with 1 Axes>"
      ]
     },
     "metadata": {
      "needs_background": "light"
     },
     "output_type": "display_data"
    }
   ],
   "source": [
    "learn = vision_learner(\n",
    "    dls=dataloaders,\n",
    "    arch=resnet18,\n",
    "    metrics=[accuracy, error_rate]\n",
    ")\n",
    "learn.fine_tune(epochs=1)\n",
    "learn.recorder.plot_loss()"
   ]
  },
  {
   "cell_type": "markdown",
   "id": "0fbb63c2",
   "metadata": {},
   "source": [
    "### Evaluating Accuracy"
   ]
  },
  {
   "cell_type": "markdown",
   "id": "c5880314",
   "metadata": {},
   "source": [
    "**How accurate is the classifier overall?**\n",
    "\n",
    "The Classifier has an accuracy value of about 0.85, meaning about 15% of predictions are inaccurate."
   ]
  },
  {
   "cell_type": "markdown",
   "id": "b950977c",
   "metadata": {},
   "source": [
    "**Which letter is it most successful at classifying?**"
   ]
  },
  {
   "cell_type": "code",
   "execution_count": 10,
   "id": "18014082",
   "metadata": {},
   "outputs": [
    {
     "data": {
      "text/html": [
       "\n",
       "<style>\n",
       "    /* Turns off some styling */\n",
       "    progress {\n",
       "        /* gets rid of default border in Firefox and Opera. */\n",
       "        border: none;\n",
       "        /* Needs to be in here for Safari polyfill so background images work as expected. */\n",
       "        background-size: auto;\n",
       "    }\n",
       "    .progress-bar-interrupted, .progress-bar-interrupted::-webkit-progress-bar {\n",
       "        background: #F44336;\n",
       "    }\n",
       "</style>\n"
      ],
      "text/plain": [
       "<IPython.core.display.HTML object>"
      ]
     },
     "metadata": {},
     "output_type": "display_data"
    },
    {
     "data": {
      "text/html": [],
      "text/plain": [
       "<IPython.core.display.HTML object>"
      ]
     },
     "metadata": {},
     "output_type": "display_data"
    },
    {
     "data": {
      "text/html": [
       "\n",
       "<style>\n",
       "    /* Turns off some styling */\n",
       "    progress {\n",
       "        /* gets rid of default border in Firefox and Opera. */\n",
       "        border: none;\n",
       "        /* Needs to be in here for Safari polyfill so background images work as expected. */\n",
       "        background-size: auto;\n",
       "    }\n",
       "    .progress-bar-interrupted, .progress-bar-interrupted::-webkit-progress-bar {\n",
       "        background: #F44336;\n",
       "    }\n",
       "</style>\n"
      ],
      "text/plain": [
       "<IPython.core.display.HTML object>"
      ]
     },
     "metadata": {},
     "output_type": "display_data"
    },
    {
     "data": {
      "text/html": [],
      "text/plain": [
       "<IPython.core.display.HTML object>"
      ]
     },
     "metadata": {},
     "output_type": "display_data"
    },
    {
     "data": {
      "image/png": "[encoded data removed]",
      "text/plain": [
       "<Figure size 432x288 with 1 Axes>"
      ]
     },
     "metadata": {
      "needs_background": "light"
     },
     "output_type": "display_data"
    }
   ],
   "source": [
    "interp = ClassificationInterpretation.from_learner(learn)\n",
    "interp.plot_confusion_matrix()"
   ]
  },
  {
   "cell_type": "markdown",
   "id": "e740cd61",
   "metadata": {},
   "source": [
    "According to the confusion matrix above, it seems that C's were the easiest for the classifier to predict, considering it correctly predicted all actual C's. Here is an example:"
   ]
  },
  {
   "cell_type": "code",
   "execution_count": 30,
   "id": "8b92002c",
   "metadata": {},
   "outputs": [
    {
     "name": "stdout",
     "output_type": "stream",
     "text": [
      "This is a: C.\n",
      "Probabilities: TensorBase([0.0161, 0.0106, 0.9733])\n"
     ]
    },
    {
     "data": {
      "image/png": "[encoded data removed]",
      "text/plain": [
       "<PIL.Image.Image image mode=RGBA size=224x224 at 0x7F8ED4CD38B0>"
      ]
     },
     "execution_count": 30,
     "metadata": {},
     "output_type": "execute_result"
    }
   ],
   "source": [
    "with learn.no_bar():\n",
    "    prediction, _, probs = learn.predict(PILImage.create(image_files[98]))\n",
    "\n",
    "print(f\"This is a: {prediction}.\")\n",
    "print(f\"Probabilities: {probs}\")\n",
    "load_image(image_files[98])"
   ]
  },
  {
   "cell_type": "markdown",
   "id": "92bdc00c",
   "metadata": {},
   "source": [
    "**What mistakes does it make most frequently?**\n",
    "\n",
    "The modal seemed to mistaken A's for C's most frequently. The first two results below are some examples:"
   ]
  },
  {
   "cell_type": "code",
   "execution_count": 31,
   "id": "903fca18",
   "metadata": {},
   "outputs": [
    {
     "data": {
      "text/html": [
       "\n",
       "<style>\n",
       "    /* Turns off some styling */\n",
       "    progress {\n",
       "        /* gets rid of default border in Firefox and Opera. */\n",
       "        border: none;\n",
       "        /* Needs to be in here for Safari polyfill so background images work as expected. */\n",
       "        background-size: auto;\n",
       "    }\n",
       "    .progress-bar-interrupted, .progress-bar-interrupted::-webkit-progress-bar {\n",
       "        background: #F44336;\n",
       "    }\n",
       "</style>\n"
      ],
      "text/plain": [
       "<IPython.core.display.HTML object>"
      ]
     },
     "metadata": {},
     "output_type": "display_data"
    },
    {
     "data": {
      "text/html": [],
      "text/plain": [
       "<IPython.core.display.HTML object>"
      ]
     },
     "metadata": {},
     "output_type": "display_data"
    },
    {
     "data": {
      "image/png": "[encoded data removed]",
      "text/plain": [
       "<Figure size 1080x216 with 5 Axes>"
      ]
     },
     "metadata": {
      "needs_background": "light"
     },
     "output_type": "display_data"
    }
   ],
   "source": [
    "interp.plot_top_losses(5, nrows=1)"
   ]
  },
  {
   "cell_type": "markdown",
   "id": "5756cde9",
   "metadata": {},
   "source": [
    "**For the previous 3 questions, any ideas about why?**\n",
    "\n",
    "I'm guessing that C's are the simplest forms to draw, so they must also be the simplest to guess. Some of the A's that it guessed wrong might have had some features of C's, specifically cursive C's, so that could have been the cause.\n",
    "\n",
    "**Suppose someone else gave you one of their images. How likely do you think your classifier would be to get it right?**\n",
    "\n",
    "If my classifier were given someone else's images, then based on my results above, I think it would have around 70-80% chance of guessing the letter correctly. I made this slightly lower than the accuracy computed above because there's a good chance the images provided could have used a different method of capturing the letter, like hand-drawing it. This could lead to some uncertainty in my classifier."
   ]
  },
  {
   "cell_type": "markdown",
   "id": "926cfd7a",
   "metadata": {},
   "source": [
    "**What choices did you have to make in the process of collecting data, processing it, and analyzing the results?**\n",
    "\n",
    "First, I had to decide the method of data collection. Due to a shortage of time, I decided to collect all of my data through the provided drawing application. Another choice I had to make was how many images to include in each batch. I went with 2 due to the small size of my dataset.\n",
    "\n",
    "**What are one or two choices that you could have made differently?**\n",
    "\n",
    "The biggest choice I could have made differently was choosing different methods of data collection. Using only the drawing tool provided definitely impacted the accuracy of my model, and I'd be interested in trying to use more images, or at least images from other sources, like trying different fonts or hand-drawing the images. I could have maybe used other people's hand-drawn images to get different hand-writing samples, since my own hand-writing could have caused some difficulty in the predictions."
   ]
  }
 ],
 "metadata": {
  "kernelspec": {
   "display_name": "Python 3 (ipykernel)",
   "language": "python",
   "name": "python3"
  },
  "language_info": {
   "codemirror_mode": {
    "name": "ipython",
    "version": 3
   },
   "file_extension": ".py",
   "mimetype": "text/x-python",
   "name": "python",
   "nbconvert_exporter": "python",
   "pygments_lexer": "ipython3",
   "version": "3.9.12"
  }
 },
 "nbformat": 4,
 "nbformat_minor": 5
}
