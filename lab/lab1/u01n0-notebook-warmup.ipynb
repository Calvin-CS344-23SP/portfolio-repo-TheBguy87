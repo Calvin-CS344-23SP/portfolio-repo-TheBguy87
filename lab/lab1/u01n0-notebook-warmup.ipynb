{
 "cells": [
  {
   "cell_type": "markdown",
   "id": "f22c40bb",
   "metadata": {},
   "source": [
    "# Jupyter Notebook Warmup"
   ]
  },
  {
   "cell_type": "markdown",
   "id": "267023a4",
   "metadata": {},
   "source": [
    "## Environment check\n",
    "\n",
    "Run the following cell to check that your environment is set up properly."
   ]
  },
  {
   "cell_type": "code",
   "execution_count": 7,
   "id": "366c98f1",
   "metadata": {},
   "outputs": [],
   "source": [
    "from fastbook import *\n",
    "pip_path = !which pip\n",
    "assert 'conda' in pip_path[0], \"pip path should include conda\""
   ]
  },
  {
   "cell_type": "markdown",
   "id": "e3312381",
   "metadata": {},
   "source": [
    "On the lab computers, this should display `True`:"
   ]
  },
  {
   "cell_type": "code",
   "execution_count": 8,
   "id": "bd49fe15",
   "metadata": {},
   "outputs": [
    {
     "data": {
      "text/plain": [
       "True"
      ]
     },
     "execution_count": 8,
     "metadata": {},
     "output_type": "execute_result"
    }
   ],
   "source": [
    "torch.cuda.is_available()"
   ]
  },
  {
   "cell_type": "markdown",
   "id": "9be596c7",
   "metadata": {},
   "source": [
    "Anyone running locally on macOS CPU will need this code; generally you should be using the lab machines though:"
   ]
  },
  {
   "cell_type": "code",
   "execution_count": 4,
   "id": "2349e595",
   "metadata": {},
   "outputs": [],
   "source": [
    "import sys\n",
    "if sys.platform == \"darwin\":\n",
    "    # https://stackoverflow.com/a/64855500/69707\n",
    "    import os\n",
    "    os.environ['OMP_NUM_THREADS'] = '1'"
   ]
  },
  {
   "cell_type": "code",
   "execution_count": null,
   "id": "97fd5cb9",
   "metadata": {},
   "outputs": [],
   "source": [
    "## Jupyter Notebooks"
   ]
  },
  {
   "cell_type": "code",
   "execution_count": 5,
   "id": "e4240c2d",
   "metadata": {
    "scrolled": true
   },
   "outputs": [
    {
     "data": {
      "text/plain": [
       "2"
      ]
     },
     "execution_count": 5,
     "metadata": {},
     "output_type": "execute_result"
    }
   ],
   "source": [
    "1+1"
   ]
  },
  {
   "cell_type": "markdown",
   "id": "efbd5ccc",
   "metadata": {},
   "source": [
    "Here is some Markdown formatting:\n",
    "- This is __bold__\n",
    "- This _is_ italic\n",
    "- This is a [link to Calvin's website](https://calvin.edu/)."
   ]
  },
  {
   "cell_type": "code",
   "execution_count": 6,
   "id": "0b1116ed",
   "metadata": {},
   "outputs": [
    {
     "name": "stdout",
     "output_type": "stream",
     "text": [
      "Something\n"
     ]
    },
    {
     "data": {
      "text/plain": [
       "4.0"
      ]
     },
     "execution_count": 6,
     "metadata": {},
     "output_type": "execute_result"
    }
   ],
   "source": [
    "x = 1.0\n",
    "x * 2\n",
    "print(\"Something\")\n",
    "x = x * 2\n",
    "x * 2"
   ]
  },
  {
   "cell_type": "markdown",
   "id": "3e3cba48",
   "metadata": {},
   "source": [
    "Seems like print statements always get displayed, as well as the last code to run."
   ]
  },
  {
   "cell_type": "code",
   "execution_count": null,
   "id": "85a24983",
   "metadata": {},
   "outputs": [],
   "source": []
  }
 ],
 "metadata": {
  "kernelspec": {
   "display_name": "Python 3 (ipykernel)",
   "language": "python",
   "name": "python3"
  },
  "language_info": {
   "codemirror_mode": {
    "name": "ipython",
    "version": 3
   },
   "file_extension": ".py",
   "mimetype": "text/x-python",
   "name": "python",
   "nbconvert_exporter": "python",
   "pygments_lexer": "ipython3",
   "version": "3.9.12"
  }
 },
 "nbformat": 4,
 "nbformat_minor": 5
}
