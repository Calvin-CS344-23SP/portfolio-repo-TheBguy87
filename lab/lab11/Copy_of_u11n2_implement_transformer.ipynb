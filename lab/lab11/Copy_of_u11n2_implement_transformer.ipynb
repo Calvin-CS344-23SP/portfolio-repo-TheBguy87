{
  "cells": [
    {
      "cell_type": "markdown",
      "metadata": {
        "id": "Zrs6hAth-hk5"
      },
      "source": [
        "# Implementing self-attention\n",
        "\n",
        "Let's implement a Transformer. Don't worry, we can do this."
      ]
    },
    {
      "cell_type": "markdown",
      "metadata": {
        "id": "Q8gAVABo-hk6"
      },
      "source": [
        "## Setup"
      ]
    },
    {
      "cell_type": "code",
      "execution_count": null,
      "metadata": {
        "id": "JnZOKNCx-hk7"
      },
      "outputs": [],
      "source": [
        "import torch\n",
        "import torch.nn as nn\n",
        "import torch.nn.functional as F\n",
        "import pandas as pd\n",
        "import matplotlib.pyplot as plt\n",
        "from IPython.display import display\n",
        "\n",
        "def num_parameters(model):\n",
        "    \"\"\"Count the number of trainable parameters in a model\"\"\"\n",
        "    return sum(param.numel() for param in model.parameters() if param.requires_grad)"
      ]
    },
    {
      "cell_type": "markdown",
      "metadata": {
        "id": "d0ilgx7B-hk7"
      },
      "source": [
        "## Getting started\n",
        "\n",
        "Let's start with an input sequence."
      ]
    },
    {
      "cell_type": "code",
      "execution_count": null,
      "metadata": {
        "id": "sCr51X1I-hk7"
      },
      "outputs": [],
      "source": [
        "sentence = \"Transformed.\""
      ]
    },
    {
      "cell_type": "markdown",
      "metadata": {
        "id": "Uv554Kl7-hk8"
      },
      "source": [
        "Let's turn it into numbers by using the Unicode code point for each character. To keep things simple, we won't batch anything."
      ]
    },
    {
      "cell_type": "code",
      "execution_count": null,
      "metadata": {
        "id": "dL2GskOm-hk8",
        "outputId": "7da61360-58b4-42f5-faf3-a7ef2f35a753",
        "colab": {
          "base_uri": "https://localhost:8080/"
        }
      },
      "outputs": [
        {
          "output_type": "execute_result",
          "data": {
            "text/plain": [
              "tensor([ 84, 114,  97, 110, 115, 102, 111, 114, 109, 101, 100,  46])"
            ]
          },
          "metadata": {},
          "execution_count": 3
        }
      ],
      "source": [
        "sentence_tensor = torch.tensor([ord(x) for x in sentence])\n",
        "sentence_tensor"
      ]
    },
    {
      "cell_type": "code",
      "execution_count": null,
      "metadata": {
        "id": "2yB10p8m-hk8",
        "outputId": "61195e66-00f0-4278-954a-8c55ad33aa1b",
        "colab": {
          "base_uri": "https://localhost:8080/",
          "height": 35
        }
      },
      "outputs": [
        {
          "output_type": "execute_result",
          "data": {
            "text/plain": [
              "'Transformed.'"
            ],
            "application/vnd.google.colaboratory.intrinsic+json": {
              "type": "string"
            }
          },
          "metadata": {},
          "execution_count": 4
        }
      ],
      "source": [
        "def decode(x):\n",
        "    return ''.join(chr(x) for x in x.numpy())\n",
        "decode(sentence_tensor)"
      ]
    },
    {
      "cell_type": "markdown",
      "metadata": {
        "id": "Zm676nVI-hk8"
      },
      "source": [
        "We'll make this an autoregressive language model, so our goal will be to predict the next character. So we'll need to shift the targets left, so each character should output the next one."
      ]
    },
    {
      "cell_type": "code",
      "execution_count": null,
      "metadata": {
        "id": "zPNAT65a-hk9"
      },
      "outputs": [],
      "source": [
        "targets = sentence_tensor[1:]\n",
        "input_ids = sentence_tensor[:-1]\n",
        "assert input_ids.shape == targets.shape"
      ]
    },
    {
      "cell_type": "markdown",
      "metadata": {
        "id": "aBGXivE9-hk9"
      },
      "source": [
        "Now let's make those numbers into vectors using an embedding. Note that we're just going to use the random initialization right now; we're not yet training this model."
      ]
    },
    {
      "cell_type": "markdown",
      "metadata": {
        "id": "cT4LHwAM-hk9"
      },
      "source": [
        "# Embeddings"
      ]
    },
    {
      "cell_type": "markdown",
      "metadata": {
        "id": "a-8KUy3A-hk9"
      },
      "source": [
        "A big chunk of the parameters of a model come from the *word embeddings*. Let's see an example.\n",
        "\n",
        "We'll use a vocabulary size of 256 (very small, but enough to store individual *bytes*) and an embedding dimensionality of 5 (also *very* small).\n",
        "\n",
        "(Note: we'll still call these *word* embeddings even though we'll actually use them as embeddings for individual *characters*.)"
      ]
    },
    {
      "cell_type": "code",
      "execution_count": null,
      "metadata": {
        "id": "44jrUAyP-hk9",
        "outputId": "a6e16997-daf6-44f2-c9c2-95252a8a1522",
        "colab": {
          "base_uri": "https://localhost:8080/"
        }
      },
      "outputs": [
        {
          "output_type": "execute_result",
          "data": {
            "text/plain": [
              "torch.Size([256, 5])"
            ]
          },
          "metadata": {},
          "execution_count": 6
        }
      ],
      "source": [
        "n_vocab = 256\n",
        "emb_dim = 5\n",
        "embedder = nn.Embedding(n_vocab, emb_dim)\n",
        "embedder.weight.shape"
      ]
    },
    {
      "cell_type": "markdown",
      "metadata": {
        "id": "gBvgptnL-hk-"
      },
      "source": [
        "How many parameters are needed for the word embeddings?"
      ]
    },
    {
      "cell_type": "code",
      "execution_count": null,
      "metadata": {
        "id": "ySH0Zu-J-hk-",
        "outputId": "4f60dca9-8ac8-45a1-8796-7eb6d735ef84",
        "colab": {
          "base_uri": "https://localhost:8080/"
        }
      },
      "outputs": [
        {
          "output_type": "execute_result",
          "data": {
            "text/plain": [
              "1280"
            ]
          },
          "metadata": {},
          "execution_count": 7
        }
      ],
      "source": [
        "num_parameters(embedder)"
      ]
    },
    {
      "cell_type": "markdown",
      "metadata": {
        "id": "YVVKyxP_-hk-"
      },
      "source": [
        "## Complete but vacuous model"
      ]
    },
    {
      "cell_type": "markdown",
      "metadata": {
        "id": "Ljl8dF-H-hk-"
      },
      "source": [
        "We'll now define a model that has the outward structure of a language model, but without any internal processing."
      ]
    },
    {
      "cell_type": "code",
      "execution_count": null,
      "metadata": {
        "id": "aUA0oYRa-hk-",
        "outputId": "1678bc81-344e-4cd2-999f-3f0697922549",
        "colab": {
          "base_uri": "https://localhost:8080/"
        }
      },
      "outputs": [
        {
          "output_type": "execute_result",
          "data": {
            "text/plain": [
              "1280"
            ]
          },
          "metadata": {},
          "execution_count": 8
        }
      ],
      "source": [
        "class BareBonesLM(nn.Module):\n",
        "    def __init__(self, n_vocab, emb_dim, tie_weights=True, bias=False):\n",
        "        super().__init__()\n",
        "        self.word_to_embedding = nn.Embedding(n_vocab, emb_dim)\n",
        "        self.lm_head = nn.Linear(emb_dim, n_vocab, bias=bias)\n",
        "\n",
        "        if tie_weights:\n",
        "            assert self.lm_head.weight.shape == self.word_to_embedding.weight.shape\n",
        "            self.lm_head.weight = self.word_to_embedding.weight\n",
        "    \n",
        "    def forward(self, input_ids):\n",
        "        input_embeds = self.word_to_embedding(input_ids)\n",
        "        x = input_embeds # model would go here\n",
        "        logits = self.lm_head(x)\n",
        "        return logits\n",
        "\n",
        "\n",
        "num_parameters(BareBonesLM(n_vocab=n_vocab, emb_dim=emb_dim))"
      ]
    },
    {
      "cell_type": "markdown",
      "metadata": {
        "id": "SXY79jlE-hk-"
      },
      "source": [
        "## Multi-Layer Perceptron\n",
        "\n",
        "Now let's start putting a model in there. Let's start with the simple MLP that we looked at in previous Fundamentals. We'll define it as a PyTorch `Module`:"
      ]
    },
    {
      "cell_type": "code",
      "execution_count": null,
      "metadata": {
        "id": "Tp-ye5AM-hk_",
        "outputId": "ca09cb9c-42fd-4c6a-a37f-a746d12d38d6",
        "colab": {
          "base_uri": "https://localhost:8080/"
        }
      },
      "outputs": [
        {
          "output_type": "execute_result",
          "data": {
            "text/plain": [
              "181"
            ]
          },
          "metadata": {},
          "execution_count": 9
        }
      ],
      "source": [
        "class MLP(nn.Module):\n",
        "    def __init__(self, emb_dim, n_hidden):\n",
        "        super().__init__()\n",
        "\n",
        "        self.model = nn.Sequential(\n",
        "            nn.Linear(in_features=emb_dim, out_features=n_hidden),\n",
        "            nn.ReLU(), # or nn.GELU() or others\n",
        "            nn.Linear(in_features=n_hidden, out_features=emb_dim)\n",
        "        )\n",
        "\n",
        "    def forward(self, x):\n",
        "        return self.model(x)\n",
        "\n",
        "num_parameters(MLP(emb_dim=emb_dim, n_hidden=16))"
      ]
    },
    {
      "cell_type": "markdown",
      "metadata": {
        "id": "qAtfybGS-hk_"
      },
      "source": [
        "### Complete Language Model with MLP\n",
        "\n",
        "Now let's put that into an LM. Notice what's similar and what's different between this and the `BareBonesLM` above."
      ]
    },
    {
      "cell_type": "code",
      "execution_count": null,
      "metadata": {
        "id": "S9U7jwwU-hk_",
        "outputId": "44d1bc0d-0dd4-499a-b250-e8aac5557e5a",
        "colab": {
          "base_uri": "https://localhost:8080/"
        }
      },
      "outputs": [
        {
          "output_type": "execute_result",
          "data": {
            "text/plain": [
              "1461"
            ]
          },
          "metadata": {},
          "execution_count": 10
        }
      ],
      "source": [
        "class FeedForwardLM(nn.Module):\n",
        "    def __init__(self, n_vocab, emb_dim, n_hidden, tie_weights=True):\n",
        "        super().__init__()\n",
        "        self.word_to_embedding = nn.Embedding(n_vocab, emb_dim)\n",
        "        self.model = MLP(emb_dim=emb_dim, n_hidden=n_hidden)\n",
        "        self.lm_head = nn.Linear(emb_dim, n_vocab, bias=False)\n",
        "\n",
        "        if tie_weights:\n",
        "            assert self.lm_head.weight.shape == self.word_to_embedding.weight.shape\n",
        "            self.lm_head.weight = self.word_to_embedding.weight\n",
        "    \n",
        "    def forward(self, input_ids):\n",
        "        input_embeds = self.word_to_embedding(input_ids)\n",
        "        x = self.model(input_embeds)\n",
        "        return self.lm_head(x)\n",
        "\n",
        "\n",
        "ff_lm = FeedForwardLM(n_vocab=n_vocab, emb_dim=emb_dim, n_hidden=16)\n",
        "num_parameters(ff_lm)"
      ]
    },
    {
      "cell_type": "markdown",
      "metadata": {
        "id": "uNzvo6I1-hk_"
      },
      "source": [
        "## Self-Attention\n",
        "\n",
        "We're going to implement an oversimplified Self-Attention layer. If you're interested, here are a few reference implementations of the real thing:\n",
        "\n",
        "- https://github.com/jaymody/picoGPT/\n",
        "- [Annotated Transformer](https://nlp.seas.harvard.edu/2018/04/03/attention.html)\n",
        "- PyTorch's builtin implementation: [`TransformerEncoderLayer`](https://pytorch.org/docs/stable/_modules/torch/nn/modules/transformer.html#TransformerEncoderLayer) and [`MultiheadAttention`](https://pytorch.org/docs/stable/generated/torch.nn.MultiheadAttention.html#torch.nn.MultiheadAttention).\n",
        "- [minGPT](https://github.com/karpathy/minGPT/blob/master/mingpt/model.py)"
      ]
    },
    {
      "cell_type": "markdown",
      "metadata": {
        "id": "oR6uEw-y-hk_"
      },
      "source": [
        "First we'll do it step-by-step, then we'll bundle it into a module.\n",
        "\n",
        "To show what's going on, let's get some example input embeddings."
      ]
    },
    {
      "cell_type": "code",
      "execution_count": null,
      "metadata": {
        "id": "cYWWXXdN-hk_",
        "outputId": "8f13191f-3e6a-4823-8d7c-1d04c36650b8",
        "colab": {
          "base_uri": "https://localhost:8080/"
        }
      },
      "outputs": [
        {
          "output_type": "execute_result",
          "data": {
            "text/plain": [
              "torch.Size([11, 5])"
            ]
          },
          "metadata": {},
          "execution_count": 11
        }
      ],
      "source": [
        "example_embeddings = embedder(input_ids)\n",
        "example_embeddings.shape"
      ]
    },
    {
      "cell_type": "markdown",
      "metadata": {
        "id": "1A6CTyYR-hlA"
      },
      "source": [
        "**Stop**: Can you explain that shape?"
      ]
    },
    {
      "cell_type": "markdown",
      "metadata": {
        "id": "7btmZByI-hlA"
      },
      "source": [
        "We're going to implement a single attention head. Recall that we need to compute three things for each token: a **query** (q), which then gets compared with all of the **key**s (k), and if matches, we add up the **value**s (v). Let's do that. First, let's define linear layers to compute q, k, and v."
      ]
    },
    {
      "cell_type": "code",
      "execution_count": null,
      "metadata": {
        "id": "XwPdCw2G-hlA"
      },
      "outputs": [],
      "source": [
        "# In the real model, this will be defined in the __init__ method\n",
        "# Note: some models include biases here, others don't.\n",
        "get_query = nn.Linear(emb_dim, emb_dim, bias=False)\n",
        "get_key = nn.Linear(emb_dim, emb_dim, bias=False)\n",
        "get_value = nn.Linear(emb_dim, emb_dim, bias=False)"
      ]
    },
    {
      "cell_type": "markdown",
      "metadata": {
        "id": "AgviM8tS-hlA"
      },
      "source": [
        "Then, when we do a forward pass, we compute q, k, and v for each token. We do that by passing the input embeddings through the linear layers."
      ]
    },
    {
      "cell_type": "code",
      "execution_count": null,
      "metadata": {
        "id": "xXX_ougV-hlA"
      },
      "outputs": [],
      "source": [
        "queries = get_query(example_embeddings)\n",
        "keys = get_key(example_embeddings)\n",
        "values = get_value(example_embeddings)\n",
        "# queries.shape\n",
        "# keys.shape\n",
        "# values.shape"
      ]
    },
    {
      "cell_type": "markdown",
      "metadata": {
        "id": "V1UnJfO0-hlA"
      },
      "source": [
        "**Stop**: What shape will `queries` have? What about `keys` and `values`? Check your answers by printing them out."
      ]
    },
    {
      "cell_type": "markdown",
      "metadata": {
        "id": "H1_1FOGc-hlA"
      },
      "source": [
        "Now, let's compute how how much each token's query matches each token's key. We do that by computing the dot product of each query with each key. We could do something like:"
      ]
    },
    {
      "cell_type": "code",
      "execution_count": null,
      "metadata": {
        "id": "f4hxA36v-hlA"
      },
      "outputs": [],
      "source": [
        "query_2_key_1 = queries[2] @ keys[1]"
      ]
    },
    {
      "cell_type": "markdown",
      "metadata": {
        "id": "i6F_nrOX-hlA"
      },
      "source": [
        "But that would be tedious and require looping. Instead, we can just compute a matrix multiplication."
      ]
    },
    {
      "cell_type": "code",
      "execution_count": null,
      "metadata": {
        "id": "acTftfNr-hlB",
        "outputId": "313c6797-9f74-4cca-ed6e-621fee3027ca",
        "colab": {
          "base_uri": "https://localhost:8080/"
        }
      },
      "outputs": [
        {
          "output_type": "execute_result",
          "data": {
            "text/plain": [
              "torch.Size([11, 11])"
            ]
          },
          "metadata": {},
          "execution_count": 15
        }
      ],
      "source": [
        "query_key_products = queries @ keys.T\n",
        "query_key_products.shape"
      ]
    },
    {
      "cell_type": "code",
      "execution_count": null,
      "metadata": {
        "id": "gvyAp1uI-hlB"
      },
      "outputs": [],
      "source": [
        "# Check that it's computing the same thing.\n",
        "assert torch.allclose(query_2_key_1, query_key_products[2, 1])"
      ]
    },
    {
      "cell_type": "markdown",
      "metadata": {
        "id": "_h-PI2EH-hlB"
      },
      "source": [
        "The result is a matrix of dot products. Let's look at it. (Note: since the embeddings and the linear layers are random, your values will be different.)"
      ]
    },
    {
      "cell_type": "code",
      "execution_count": null,
      "metadata": {
        "id": "5tpRHCIm-hlB",
        "outputId": "4dad07bc-b171-46f1-ab3a-2b086a3426cf",
        "colab": {
          "base_uri": "https://localhost:8080/",
          "height": 472
        }
      },
      "outputs": [
        {
          "output_type": "display_data",
          "data": {
            "text/plain": [
              "<Figure size 640x480 with 2 Axes>"
            ],
            "image/png": "[encoded data removed]"
          },
          "metadata": {}
        }
      ],
      "source": [
        "# center the color scale on 0.\n",
        "plt.imshow(query_key_products.detach().numpy(), cmap=\"RdBu\", vmin=-2, vmax=2)\n",
        "plt.title(\"Query-key dot products\")\n",
        "plt.xlabel(\"Key token index\")\n",
        "plt.ylabel(\"Query token index\")\n",
        "plt.colorbar();"
      ]
    },
    {
      "cell_type": "markdown",
      "metadata": {
        "id": "fTXblksI-hlC"
      },
      "source": [
        "We then use the softmax function to compute how much to actually pay attention to each token. It turns out that to stabilize the computation, it helps to use a temperature proportional to the square root of the dimensionality of the keys."
      ]
    },
    {
      "cell_type": "code",
      "execution_count": null,
      "metadata": {
        "id": "Swavew7r-hlC"
      },
      "outputs": [],
      "source": [
        "attention_weights = F.softmax(query_key_products / emb_dim**0.5, dim=-1)"
      ]
    },
    {
      "cell_type": "markdown",
      "metadata": {
        "id": "V8kfpI00-hlC"
      },
      "source": [
        "What do the attention weights look like?"
      ]
    },
    {
      "cell_type": "code",
      "execution_count": null,
      "metadata": {
        "id": "zWH5yRqG-hlC",
        "outputId": "593d0126-2d08-43d9-eac3-2854cee54f77",
        "colab": {
          "base_uri": "https://localhost:8080/",
          "height": 472
        }
      },
      "outputs": [
        {
          "output_type": "display_data",
          "data": {
            "text/plain": [
              "<Figure size 640x480 with 2 Axes>"
            ],
            "image/png": "[encoded data removed]"
          },
          "metadata": {}
        }
      ],
      "source": [
        "plt.imshow(attention_weights.detach().numpy(), cmap=\"cividis\", vmin=0)\n",
        "plt.title(\"Attention weights\")\n",
        "plt.xlabel(\"Key token index\")\n",
        "plt.ylabel(\"Query token index\")\n",
        "plt.colorbar();"
      ]
    },
    {
      "cell_type": "markdown",
      "metadata": {
        "id": "m9_y4utX-hlC"
      },
      "source": [
        "Those weights determine, for each token, how much of each other token's `value` to add up. We can compute that by multiplying the weights by the values."
      ]
    },
    {
      "cell_type": "code",
      "execution_count": null,
      "metadata": {
        "id": "NWuNaUuJ-hlC",
        "outputId": "32b6035b-a455-4b24-fb7a-213dc7799646",
        "colab": {
          "base_uri": "https://localhost:8080/"
        }
      },
      "outputs": [
        {
          "output_type": "execute_result",
          "data": {
            "text/plain": [
              "torch.Size([5])"
            ]
          },
          "metadata": {},
          "execution_count": 20
        }
      ],
      "source": [
        "first_token_output = attention_weights[0] @ values\n",
        "first_token_output.shape # notice that this is the same shape as the input embeddings"
      ]
    },
    {
      "cell_type": "markdown",
      "metadata": {
        "id": "sMqOXTii-hlC"
      },
      "source": [
        "Again, we can io the computation all at once by computing a matrix multiplication."
      ]
    },
    {
      "cell_type": "code",
      "execution_count": null,
      "metadata": {
        "id": "drG4OyPL-hlD"
      },
      "outputs": [],
      "source": [
        "head_output = attention_weights @ values\n",
        "assert torch.allclose(first_token_output, head_output[0])"
      ]
    },
    {
      "cell_type": "markdown",
      "metadata": {
        "id": "n3Yh0-f_-hlD"
      },
      "source": [
        "The full attention mechanism has this go through another linear layer, but we'll skip that for now."
      ]
    },
    {
      "cell_type": "markdown",
      "metadata": {
        "id": "FjQViYyk-hlE"
      },
      "source": [
        "But wait! Tokens shouldn't be able to attend to tokens that come after them. We need to mask out the attention weights for those tokens.\n",
        "\n",
        "A simple way to do that is to set the dot products to a very small value for tokens that come after the current token. That way, when we apply the softmax, the attention weights will be very close to zero."
      ]
    },
    {
      "cell_type": "code",
      "execution_count": null,
      "metadata": {
        "id": "BOqipOgl-hlE",
        "outputId": "067595ca-b7cf-466a-9d3d-5b60018d896a",
        "colab": {
          "base_uri": "https://localhost:8080/",
          "height": 447
        }
      },
      "outputs": [
        {
          "output_type": "execute_result",
          "data": {
            "text/plain": [
              "<matplotlib.image.AxesImage at 0x7f9557a79160>"
            ]
          },
          "metadata": {},
          "execution_count": 22
        },
        {
          "output_type": "display_data",
          "data": {
            "text/plain": [
              "<Figure size 640x480 with 1 Axes>"
            ],
            "image/png": "[encoded data removed]"
          },
          "metadata": {}
        }
      ],
      "source": [
        "sequence_len = input_ids.shape[0]\n",
        "causal_mask = (1 - torch.tril(torch.ones(sequence_len, sequence_len))) * -1e9\n",
        "plt.imshow(causal_mask.detach().numpy(), cmap=\"cividis\", vmin=-1e9)"
      ]
    },
    {
      "cell_type": "code",
      "execution_count": null,
      "metadata": {
        "id": "B0svbGc5-hlF",
        "outputId": "52bcd5a3-0a7f-4e1d-9214-0e6a6dc3672d",
        "colab": {
          "base_uri": "https://localhost:8080/",
          "height": 472
        }
      },
      "outputs": [
        {
          "output_type": "display_data",
          "data": {
            "text/plain": [
              "<Figure size 640x480 with 2 Axes>"
            ],
            "image/png": "[encoded data removed]"
          },
          "metadata": {}
        }
      ],
      "source": [
        "attention_weights = F.softmax((query_key_products + causal_mask) / emb_dim**0.5, dim=-1)\n",
        "plt.imshow(attention_weights.detach().numpy(), cmap=\"cividis\", vmin=0)\n",
        "plt.title(\"Attention weights\")\n",
        "plt.xlabel(\"Key token index\")\n",
        "plt.ylabel(\"Query token index\")\n",
        "plt.colorbar();"
      ]
    },
    {
      "cell_type": "markdown",
      "metadata": {
        "id": "57oeWQeK-hlF"
      },
      "source": [
        "Now we can bundle that into a `Module`. Your task: add the causal masking."
      ]
    },
    {
      "cell_type": "code",
      "execution_count": null,
      "metadata": {
        "id": "bFglqHNF-hlF",
        "outputId": "d73d5bf0-062f-4401-c3fc-90be2f58eb38",
        "colab": {
          "base_uri": "https://localhost:8080/"
        }
      },
      "outputs": [
        {
          "output_type": "execute_result",
          "data": {
            "text/plain": [
              "torch.Size([12, 5])"
            ]
          },
          "metadata": {},
          "execution_count": 29
        }
      ],
      "source": [
        "class BareBonesAttentionHead(nn.Module):\n",
        "    '''Implements *single-head* attention, no masking, no dropout, no init'''\n",
        "    def __init__(self, emb_dim, head_dim):\n",
        "        super().__init__()\n",
        "        self.head_dim = head_dim\n",
        "        self.get_query = nn.Linear(emb_dim, head_dim, bias=False)\n",
        "        self.get_key = nn.Linear(emb_dim, head_dim, bias=False)\n",
        "        self.get_value = nn.Linear(emb_dim, head_dim, bias=False)\n",
        "\n",
        "    def forward(self, x):\n",
        "        seq_len, emb_dim = x.shape\n",
        "\n",
        "        # Compute query, key, and value vectors.\n",
        "        q = self.get_query(x) # (seq_len, head_dim)\n",
        "        k = self.get_key(x)\n",
        "        v = self.get_value(x)\n",
        "\n",
        "        # Compute attention weights\n",
        "        k_transpose = k.transpose(-2, -1)\n",
        "        assert k_transpose.shape == (self.head_dim, seq_len)\n",
        "        scores = q @ k_transpose\n",
        "        assert scores.shape == (seq_len, seq_len)\n",
        "        causal_mask = (1 - torch.tril(torch.ones(seq_len, seq_len))) * -1e9\n",
        "        query_key_products = q @ k.transpose(-2, -1)\n",
        "        attention_weights = torch.softmax((query_key_products + causal_mask) / (emb_dim**0.5), dim=-1)\n",
        "\n",
        "        # Compute weighted sum of values.\n",
        "        out = attention_weights @ v\n",
        "        return out\n",
        "\n",
        "class BareBonesSelfAttention(nn.Module):\n",
        "    def __init__(self, emb_dim, head_dim, n_heads):\n",
        "        super().__init__()\n",
        "        self.heads = nn.ModuleList([\n",
        "            BareBonesAttentionHead(emb_dim, head_dim)\n",
        "            for i in range(n_heads)\n",
        "        ]) # we need a ModuleList to make sure the heads are counted as children.\n",
        "        self.to_output = nn.Linear(n_heads * head_dim, emb_dim, bias=False)\n",
        "\n",
        "    def forward(self, x):\n",
        "        head_outputs = [head(x) for head in self.heads]\n",
        "        concats = torch.cat(head_outputs, dim=-1)\n",
        "        out = self.to_output(concats)\n",
        "        assert out.shape == x.shape\n",
        "        return out\n",
        "\n",
        "input_embeds = embedder(sentence_tensor)\n",
        "self_attn = BareBonesSelfAttention(emb_dim, head_dim=256, n_heads=2)\n",
        "self_attn(input_embeds).shape\n"
      ]
    },
    {
      "cell_type": "markdown",
      "metadata": {
        "id": "Ai5_qjrw-hlF"
      },
      "source": [
        "Now we'll define a Transformer. Well, we'll just define a single layer. A true Transformer will have many (32, 64, 118, ...) such layers. But it's just running a bunch of copies of this layer in sequence.\n",
        "\n",
        "One new thing here is the *layer norm*. It basically rescales the activations to be mean 0 variance 1, then scales and shifts by learnable constants. So each one adds 2 * emb_dim parameters to the model, and there's one after each part (self-attention and MLP)."
      ]
    },
    {
      "cell_type": "code",
      "execution_count": null,
      "metadata": {
        "id": "ZLlEzrHo-hlF",
        "outputId": "910a9725-fd56-4acf-a6d7-564f4df7d699",
        "colab": {
          "base_uri": "https://localhost:8080/"
        }
      },
      "outputs": [
        {
          "output_type": "execute_result",
          "data": {
            "text/plain": [
              "torch.Size([12, 5])"
            ]
          },
          "metadata": {},
          "execution_count": 30
        }
      ],
      "source": [
        "class BareBonesTransformerLayer(nn.Module):\n",
        "    '''Implements bare-bones self-attention transformer layer, no residual connections, no dropout'''\n",
        "    def __init__(self, emb_dim, head_dim, n_heads, dim_feedforward):\n",
        "        super().__init__()\n",
        "        self.self_attention = BareBonesSelfAttention(emb_dim, head_dim=head_dim, n_heads=n_heads)\n",
        "        self.mlp = MLP(emb_dim, n_hidden=dim_feedforward)\n",
        "        self.norm_after_attn = nn.LayerNorm(emb_dim)\n",
        "        self.norm_after_mlp = nn.LayerNorm(emb_dim)\n",
        "    \n",
        "    def forward(self, x):\n",
        "        x = self.self_attention(x)\n",
        "        x = self.norm_after_attn(x)\n",
        "        x = self.mlp(x)\n",
        "        x = self.norm_after_mlp(x)\n",
        "        return x\n",
        "\n",
        "xformer_layer = BareBonesTransformerLayer(emb_dim, dim_feedforward=emb_dim, head_dim=256, n_heads=2)\n",
        "xformer_layer(input_embeds).shape"
      ]
    },
    {
      "cell_type": "markdown",
      "metadata": {
        "id": "k83xf0pc-hlF"
      },
      "source": [
        "Now, at long last, let's make a complete Transformer-based language model.\n",
        "\n",
        "A big new aspect here is the *position embeddings*. We'll implement *learned absolute position embeddings*, which do add parameters to the model. A cool new approach, called *Rotary Position Embeddings* ([RoPE](https://blog.eleuther.ai/rotary-embeddings/)), gets comparable or better performance without adding parameters; for an implementation of that, see [x-transformers](https://github.com/lucidrains/x-transformers/blob/75afacae30c3a6c9a9daf6f9403c3fc22f6bc945/x_transformers/x_transformers.py#L310)."
      ]
    },
    {
      "cell_type": "code",
      "execution_count": null,
      "metadata": {
        "id": "mNGX1o4a-hlG",
        "outputId": "787cee7c-9199-4105-fb67-3f9acbc23b7c",
        "colab": {
          "base_uri": "https://localhost:8080/"
        }
      },
      "outputs": [
        {
          "output_type": "execute_result",
          "data": {
            "text/plain": [
              "11971"
            ]
          },
          "metadata": {},
          "execution_count": 31
        }
      ],
      "source": [
        "class TransformerLM(nn.Module):\n",
        "    def __init__(self, n_vocab, max_len, emb_dim, n_hidden, head_dim=256, n_heads=2):\n",
        "        super().__init__()\n",
        "        self.word_to_embedding = nn.Embedding(n_vocab, emb_dim)\n",
        "        self.pos_to_embedding = nn.Embedding(max_len, emb_dim)\n",
        "        self.model = BareBonesTransformerLayer(\n",
        "            emb_dim=emb_dim, dim_feedforward=n_hidden,\n",
        "            head_dim=head_dim, n_heads=n_heads)\n",
        "        self.lm_head = nn.Linear(emb_dim, n_vocab, bias=False)\n",
        "\n",
        "        assert self.lm_head.weight.shape == self.word_to_embedding.weight.shape\n",
        "        self.lm_head.weight = self.word_to_embedding.weight\n",
        "    \n",
        "    def forward(self, input_ids):\n",
        "        input_embeds = self.word_to_embedding(input_ids)\n",
        "        # Compute position embeddings.\n",
        "        position_ids = torch.arange(input_ids.shape[-1])\n",
        "        pos_embeds = self.pos_to_embedding(position_ids)\n",
        "        x = input_embeds + pos_embeds\n",
        "        x = self.model(x)\n",
        "        return self.lm_head(x)\n",
        "\n",
        "\n",
        "xformer_lm = TransformerLM(n_vocab=n_vocab, max_len=50, emb_dim=emb_dim, n_hidden=16)\n",
        "num_parameters(xformer_lm)"
      ]
    },
    {
      "cell_type": "code",
      "source": [],
      "metadata": {
        "id": "ohDED_SXEzrw"
      },
      "execution_count": null,
      "outputs": []
    }
  ],
  "metadata": {
    "interpreter": {
      "hash": "e8f4b6a4c38f2085446f7f3f791a848eb62f1444c2c1b7234c3e9244444f9b89"
    },
    "kernelspec": {
      "display_name": "Python 3",
      "language": "python",
      "name": "python3"
    },
    "language_info": {
      "codemirror_mode": {
        "name": "ipython",
        "version": 3
      },
      "file_extension": ".py",
      "mimetype": "text/x-python",
      "name": "python",
      "nbconvert_exporter": "python",
      "pygments_lexer": "ipython3",
      "version": "3.10.5"
    },
    "colab": {
      "provenance": []
    }
  },
  "nbformat": 4,
  "nbformat_minor": 0
}